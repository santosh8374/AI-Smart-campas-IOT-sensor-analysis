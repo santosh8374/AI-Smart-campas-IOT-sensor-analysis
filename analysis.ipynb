{
 "cells": [
  {
   "cell_type": "code",
   "execution_count": 1,
   "id": "702d5ef7",
   "metadata": {},
   "outputs": [],
   "source": [
    "import pandas as pd\n",
    "df = pd.read_csv('../data/sensor_data.csv')\n",
    "df['timestamp'] = pd.to_datetime(df['timestamp'])\n",
    "df['date'] = df['timestamp'].dt.date"
   ]
  },
  {
   "cell_type": "code",
   "execution_count": null,
   "id": "7618f95c",
   "metadata": {},
   "outputs": [
    {
     "name": "stdout",
     "output_type": "stream",
     "text": [
      "Anomalies: 1\n"
     ]
    }
   ],
   "source": [
    "#detect anomolies\n",
    "df['anomaly'] = ((df['temperature'] > 40) | (df['temperature'] < 10)).astype(int)\n",
    "print(\"Anomalies:\", df['anomaly'].sum())"
   ]
  },
  {
   "cell_type": "code",
   "execution_count": 3,
   "id": "ebf813e1",
   "metadata": {},
   "outputs": [],
   "source": [
    "#clean data\n",
    "df.to_csv('../data/sensor_data_cleaned.csv', index=False)"
   ]
  }
 ],
 "metadata": {
  "kernelspec": {
   "display_name": "Python 3",
   "language": "python",
   "name": "python3"
  },
  "language_info": {
   "codemirror_mode": {
    "name": "ipython",
    "version": 3
   },
   "file_extension": ".py",
   "mimetype": "text/x-python",
   "name": "python",
   "nbconvert_exporter": "python",
   "pygments_lexer": "ipython3",
   "version": "3.12.3"
  }
 },
 "nbformat": 4,
 "nbformat_minor": 5
}
